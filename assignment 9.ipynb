{
 "cells": [
  {
   "cell_type": "markdown",
   "id": "ab82035a-6f31-4e71-a4ec-75e5e800ff4a",
   "metadata": {},
   "source": [
    "1.\tGiven a 1-indexed array of integers numbers that are already sorted in non-decreasing order, find two numbers such that they add up to a specific target number. Let these two numbers be numbers[index1] and numbers[index2] where 1 <= index1 < index2 < numbers.length.\n",
    "Return the indices of the two numbers, index1, and index2, added by one as an integer array [index1, index2] of length 2.\n",
    "The tests are generated such that there is exactly one solution. You may not use the same element twice.\n",
    "Your solution must use only constant extra space.\n",
    "Input: numbers = [2,7,11,15], target = 9\n",
    "Output: [1,2]\n",
    "Explanation: The sum of 2 and 7 is 9. Therefore, index1 = 1, index2 = 2. We return [1, 2].\n"
   ]
  },
  {
   "cell_type": "code",
   "execution_count": 1,
   "id": "0a1364ce-21b9-48b3-b6eb-ec712008e351",
   "metadata": {},
   "outputs": [],
   "source": [
    "def twoSum(numbers, target):\n",
    "    l, r = 0, len(numbers)-1\n",
    "    while l < r:\n",
    "        cur_sum = numbers[l] + numbers[r]\n",
    "        if cur_sum == target:\n",
    "            return [l+1, r+1]\n",
    "        elif cur_sum < target:\n",
    "            l += 1\n",
    "        else:\n",
    "            r -= 1"
   ]
  },
  {
   "cell_type": "markdown",
   "id": "ba0b41db-8dbc-4c1e-a97c-49b997aae53f",
   "metadata": {},
   "source": [
    "2.\tGiven an array of integer nums sorted in non-decreasing order, find the starting and ending position of a given target value.\n",
    "If the target is not found in the array, return [-1, -1].\n",
    "You must write an algorithm with O(log n) runtime complexity\n",
    "Input: nums = [5,7,7,8,8,10], target = 8\n",
    "Output: [3,4]\n"
   ]
  },
  {
   "cell_type": "code",
   "execution_count": 2,
   "id": "040fe592-8b2a-4b4d-a0ad-2c5524708cbd",
   "metadata": {},
   "outputs": [],
   "source": [
    "def searchRange(nums, target):\n",
    "    def binarySearchLeft(A, x):\n",
    "        left, right = 0, len(A) - 1\n",
    "        while left <= right:\n",
    "            mid = (left + right) // 2\n",
    "            if x > A[mid]: left = mid + 1 \n",
    "            else: right = mid - 1\n",
    "        return left\n",
    "        \n",
    "    def binarySearchRight(A, x):\n",
    "        left, right = 0, len(A) - 1\n",
    "        while left <= right:\n",
    "            mid = (left + right) // 2\n",
    "            if x >= A[mid]: left = mid + 1\n",
    "            else: right = mid - 1\n",
    "        return right\n",
    "\n",
    "    left_idx = binarySearchLeft(nums, target)\n",
    "    if left_idx == len(nums) or nums[left_idx] != target:\n",
    "        return [-1, -1]\n",
    "    \n",
    "    return [left_idx, binarySearchRight(nums, target)]"
   ]
  },
  {
   "cell_type": "markdown",
   "id": "9aa73398-1faf-4b0a-944a-3a4a809c9a8d",
   "metadata": {},
   "source": [
    "3.\tA peak element is an element that is strictly greater than its neighbors.\n",
    "Given a 0-indexed integer array nums, find a peak element, and return its index. If the array contains multiple peaks, return the index to any of the peaks.\n",
    "You may imagine that nums[-1] = nums[n] = -∞. In other words, an element is always considered to be strictly greater than a neighbor that is outside the array.\n",
    "You must write an algorithm that runs in O(log n) time.\n",
    "Input: nums = [1,2,3,1]\n",
    "Output: 2\n",
    "Explanation: 3 is a peak element and your function should return the index number 2.\n"
   ]
  },
  {
   "cell_type": "code",
   "execution_count": 3,
   "id": "728f3608-af29-49a7-845e-5a0958076bd6",
   "metadata": {},
   "outputs": [],
   "source": [
    "def findPeak(nums):\n",
    "    left, right = 0, len(nums) - 1\n",
    "    while left < right:\n",
    "        mid = (left + right) // 2\n",
    "        if nums[mid] < nums[mid+1]:\n",
    "            left = mid + 1\n",
    "        else:\n",
    "            right = mid\n",
    "    return left  "
   ]
  },
  {
   "cell_type": "markdown",
   "id": "23dabcf8-4c7f-4af6-ac67-821015556ef1",
   "metadata": {},
   "source": [
    "4.\tGiven a sorted array of distinct integers and a target value, return the index if the target is found. If not, return the index where it would be if it were inserted in order.\n",
    "You must write an algorithm with O(log n) runtime complexity.\n",
    "Input: nums = [1,3,5,6], target = 5\n",
    "Output: 2\n",
    "Input: nums = [1,3,5,6], target = 7\n",
    "Output: 4\n"
   ]
  },
  {
   "cell_type": "code",
   "execution_count": 4,
   "id": "733888bf-43ad-46b9-94f9-bf0cc01793dd",
   "metadata": {},
   "outputs": [],
   "source": [
    "def searchInsert(nums, target):\n",
    "    left, right = 0, len(nums) - 1\n",
    "    while left <= right:\n",
    "        mid = (left + right) // 2\n",
    "        if nums[mid] == target:\n",
    "            return mid\n",
    "        elif nums[mid] < target:\n",
    "            left = mid + 1\n",
    "        else:\n",
    "            right = mid - 1\n",
    "    \n",
    "    return left"
   ]
  },
  {
   "cell_type": "markdown",
   "id": "acd124fd-021f-4095-9163-8af27e8f5cac",
   "metadata": {},
   "source": [
    "5.\tFind the majority element in the array. A majority element in an array A[] of size n is an element that appears more than n/2 times (and hence there is at most one such element). \n",
    "Input: A[]={3, 3, 4, 2, 4, 4, 2, 4, 4}\n",
    "Output: 4\n",
    "Explanation: The frequency of 4 is 5 which is greater than half of the size of the array size. \n"
   ]
  },
  {
   "cell_type": "code",
   "execution_count": 5,
   "id": "76adcf20-f30e-4adc-a9da-08de67ec386b",
   "metadata": {},
   "outputs": [],
   "source": [
    "def majorityElement(nums):\n",
    "    count = 0\n",
    "    candidate = None\n",
    "\n",
    "    for num in nums:\n",
    "        if count == 0:\n",
    "            candidate = num\n",
    "        if num == candidate:\n",
    "            count += 1\n",
    "        else:\n",
    "            count -= 1\n",
    "\n",
    "    return candidate"
   ]
  },
  {
   "cell_type": "markdown",
   "id": "8ca9c8c1-e272-4b6a-a89e-ed6fffdb3720",
   "metadata": {},
   "source": [
    "6.\tYou are a product manager and currently leading a team to develop a new product. Unfortunately, the latest version of your product fails the quality check. Since each version is developed based on the previous version, all the versions after a bad version are also bad.\n",
    "Suppose you have n versions [1, 2, ..., n] and you want to find out the first bad one, which causes all the following ones to be bad.\n",
    "You are given an API bool isBadVersion(version) which returns whether the version is bad. Implement a function to find the first bad version. You should minimize the number of calls to the API.\n",
    "Input: n = 5, bad = 4\n",
    "Output: 4\n",
    "Explanation:\n",
    "call isBadVersion(3) -> false\n",
    "call isBadVersion(5) -> true\n",
    "call isBadVersion(4) -> true\n",
    "Then 4 is the first bad version.\n"
   ]
  },
  {
   "cell_type": "code",
   "execution_count": 6,
   "id": "84399883-a838-4354-b521-bbca17be2fa1",
   "metadata": {},
   "outputs": [],
   "source": [
    "def firstBadVersion(n):\n",
    "    left, right = 1, n\n",
    "    while left < right:\n",
    "        mid = left + (right - left) // 2\n",
    "        if isBadVersion(mid):\n",
    "            right = mid\n",
    "        else:\n",
    "            left = mid + 1\n",
    "    return left"
   ]
  },
  {
   "cell_type": "markdown",
   "id": "b1a68af6-abb2-4bb4-ab56-9d3a2feb707d",
   "metadata": {},
   "source": [
    "7.\tGiven an array of integers, find the inversion of an array. Formally, two elements a[i] and a[j] form an inversion if a[i] > a[j] and i < j.\n",
    "N=5, arr[] = {2, 4, 1, 3, 5}\n",
    "Output: 3\n",
    "Explanation: (2,1) (4,1) and (4,3) forms an inversion in an array\n",
    "Given an array of integers, find the inversion of an array. Formally, two elements a[i] and a[j] form an inversion if a[i] > a[j] and i < j.\n",
    "N=5, arr[] = {2, 4, 1, 3, 5}\n",
    "Output: 3\n",
    "Explanation: (2,1) (4,1) and (4,3) forms an inversion in an array"
   ]
  },
  {
   "cell_type": "code",
   "execution_count": 7,
   "id": "1e60b13e-3fee-4b29-a879-b921e26eb21d",
   "metadata": {},
   "outputs": [],
   "source": [
    "def countInversions(arr):\n",
    "    def mergeSortAndCount(arr, temp_arr, left, right):\n",
    "        inv_count = 0\n",
    "        if right > left:\n",
    "            mid = (right + left)//2\n",
    " \n",
    "            inv_count += mergeSortAndCount(arr, temp_arr, left, mid)\n",
    "            inv_count += mergeSortAndCount(arr, temp_arr, mid + 1, right)\n",
    " \n",
    "            inv_count += merge(arr, temp_arr, left, mid, right)\n",
    "        return inv_count\n",
    "\n",
    "    def merge(arr, temp_arr, left, mid, right):\n",
    "        i = left    \n",
    "        j = mid + 1    \n",
    "        k = left     \n",
    "        inv_count = 0\n",
    " \n",
    "        while i <= mid and j <= right:\n",
    "            if arr[i] <= arr[j]:\n",
    "                temp_arr[k] = arr[i]\n",
    "                k += 1\n",
    "                i += 1\n",
    "            else:\n",
    "                temp_arr[k] = arr[j]\n",
    "                inv_count += (mid-i + 1)\n",
    "                k += 1\n",
    "                j += 1\n",
    " \n",
    "        while i <= mid:\n",
    "            temp_arr[k] = arr[i]\n",
    "            k += 1\n",
    "            i += 1\n",
    " \n",
    "        while j <= right:\n",
    "            temp_arr[k] = arr[j]\n",
    "            k += 1\n",
    "            j += 1\n",
    " \n",
    "        for loop_var in range(left, right + 1):\n",
    "            arr[loop_var] = temp_arr[loop_var]\n",
    "             \n",
    "        return inv_count\n",
    " \n",
    "    temp_arr = [0]*len(arr)\n",
    "    return mergeSortAndCount(arr, temp_arr, 0, len(arr)-1)"
   ]
  },
  {
   "cell_type": "markdown",
   "id": "69b0eca5-e474-40fc-ae67-7990fec4b469",
   "metadata": {},
   "source": [
    "8.\tGiven three arrays sorted in non-decreasing order, print all common elements in these arrays.\n",
    "ar1[] = {1, 5, 10, 20, 40, 80} \n",
    "ar2[] = {6, 7, 20, 80, 100} \n",
    "ar3[] = {3, 4, 15, 20, 30, 70, 80, 120} \n",
    "Output: 20, 80\n"
   ]
  },
  {
   "cell_type": "code",
   "execution_count": 8,
   "id": "cade9e9a-f867-4ea9-b0c9-fa504ff50cdc",
   "metadata": {},
   "outputs": [],
   "source": [
    "def commonElements(ar1, ar2, ar3):\n",
    "  i, j, k = 0, 0, 0\n",
    "    \n",
    "  while i < len(ar1) and j < len(ar2) and k < len(ar3):\n",
    "        \n",
    "    if ar1[i] == ar2[j] and ar2[j] == ar3[k]:\n",
    "      print(ar1[i])\n",
    "        \n",
    "      i += 1\n",
    "      j += 1\n",
    "      k += 1\n",
    "        \n",
    "    elif ar1[i] < ar2[j]:\n",
    "      i += 1\n",
    "    elif ar2[j] < ar3[k]:\n",
    "      j += 1\n",
    "    else:\n",
    "      k += 1"
   ]
  },
  {
   "cell_type": "code",
   "execution_count": null,
   "id": "6313a262-e0d2-43f8-865b-9dcabfc95256",
   "metadata": {},
   "outputs": [],
   "source": []
  }
 ],
 "metadata": {
  "kernelspec": {
   "display_name": "Python 3 (ipykernel)",
   "language": "python",
   "name": "python3"
  },
  "language_info": {
   "codemirror_mode": {
    "name": "ipython",
    "version": 3
   },
   "file_extension": ".py",
   "mimetype": "text/x-python",
   "name": "python",
   "nbconvert_exporter": "python",
   "pygments_lexer": "ipython3",
   "version": "3.10.8"
  }
 },
 "nbformat": 4,
 "nbformat_minor": 5
}
